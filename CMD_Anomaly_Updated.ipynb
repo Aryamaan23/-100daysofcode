{
  "cells": [
    {
      "cell_type": "markdown",
      "metadata": {
        "id": "view-in-github",
        "colab_type": "text"
      },
      "source": [
        "<a href=\"https://colab.research.google.com/github/Aryamaan23/-100daysofcode/blob/main/CMD_Anomaly_Updated.ipynb\" target=\"_parent\"><img src=\"https://colab.research.google.com/assets/colab-badge.svg\" alt=\"Open In Colab\"/></a>"
      ]
    },
    {
      "cell_type": "code",
      "execution_count": null,
      "metadata": {
        "id": "GWg7DeVAnYHp"
      },
      "outputs": [],
      "source": [
        "\n",
        "\n",
        "\n",
        "\n",
        "\n",
        "\n",
        "import pandas as pd\n",
        "import numpy as np"
      ]
    },
    {
      "cell_type": "code",
      "execution_count": null,
      "metadata": {
        "id": "F0nslMQxnYHy"
      },
      "outputs": [],
      "source": [
        "adr1 = pd.read_excel(r'C:\\Users\\40101972\\OneDrive - Anheuser-Busch InBev\\Kumaresh Sadasivan\\Anomaly Execution\\CMD\\Europe\\ADR6_1.xlsx')\n",
        "knb1 = pd.read_excel(r\"C:\\Users\\40101972\\OneDrive - Anheuser-Busch InBev\\Kumaresh Sadasivan\\Anomaly Execution\\CMD\\Europe\\KNB1.xlsx\")\n",
        "knvv = pd.read_excel(r'C:\\Users\\40101972\\OneDrive - Anheuser-Busch InBev\\Kumaresh Sadasivan\\Anomaly Execution\\CMD\\Europe\\KNVV.xlsx')\n",
        "zv17 = pd.read_excel(r'C:\\Users\\40101972\\OneDrive - Anheuser-Busch InBev\\Kumaresh Sadasivan\\Anomaly Execution\\CMD\\Europe\\ZV17.xlsx')\n",
        "knkk = pd.read_excel(r'C:\\Users\\40101972\\OneDrive - Anheuser-Busch InBev\\Kumaresh Sadasivan\\Anomaly Execution\\CMD\\Europe\\KNKK.xlsx')\n",
        "zv17soldto = pd.read_excel(r'C:\\Users\\40101972\\OneDrive - Anheuser-Busch InBev\\Kumaresh Sadasivan\\Anomaly Execution\\CMD\\Europe\\ZV17_Sold to.xlsx')"
      ]
    },
    {
      "cell_type": "code",
      "execution_count": null,
      "metadata": {
        "id": "voVGOLhNnYHz",
        "outputId": "678f852d-2989-441f-cd10-1d81d3944179"
      },
      "outputs": [
        {
          "ename": "ValueError",
          "evalue": "invalid literal for int() with base 10: 'AANL000020'",
          "output_type": "error",
          "traceback": [
            "\u001b[1;31m---------------------------------------------------------------------------\u001b[0m",
            "\u001b[1;31mValueError\u001b[0m                                Traceback (most recent call last)",
            "\u001b[1;32m<ipython-input-3-15b6b19cdf17>\u001b[0m in \u001b[0;36m<module>\u001b[1;34m\u001b[0m\n\u001b[0;32m      2\u001b[0m \u001b[0mkna1_tax\u001b[0m \u001b[1;33m=\u001b[0m \u001b[0mpd\u001b[0m\u001b[1;33m.\u001b[0m\u001b[0mread_excel\u001b[0m\u001b[1;33m(\u001b[0m\u001b[1;34mr'C:\\Users\\40101972\\OneDrive - Anheuser-Busch InBev\\Kumaresh Sadasivan\\Anomaly Execution\\CMD\\Europe\\kna1_tax.xlsx'\u001b[0m\u001b[1;33m)\u001b[0m\u001b[1;33m\u001b[0m\u001b[1;33m\u001b[0m\u001b[0m\n\u001b[0;32m      3\u001b[0m \u001b[0mkna1\u001b[0m\u001b[1;33m.\u001b[0m\u001b[0mdrop\u001b[0m\u001b[1;33m(\u001b[0m\u001b[0mkna1\u001b[0m\u001b[1;33m[\u001b[0m\u001b[0mkna1\u001b[0m\u001b[1;33m[\u001b[0m\u001b[1;34m'Customer'\u001b[0m\u001b[1;33m]\u001b[0m\u001b[1;33m.\u001b[0m\u001b[0misnull\u001b[0m\u001b[1;33m(\u001b[0m\u001b[1;33m)\u001b[0m\u001b[1;33m]\u001b[0m\u001b[1;33m.\u001b[0m\u001b[0mindex\u001b[0m\u001b[1;33m,\u001b[0m\u001b[0minplace\u001b[0m\u001b[1;33m=\u001b[0m\u001b[1;32mTrue\u001b[0m\u001b[1;33m)\u001b[0m\u001b[1;33m\u001b[0m\u001b[1;33m\u001b[0m\u001b[0m\n\u001b[1;32m----> 4\u001b[1;33m \u001b[0mkna1\u001b[0m\u001b[1;33m[\u001b[0m\u001b[1;34m'Customer'\u001b[0m\u001b[1;33m]\u001b[0m \u001b[1;33m=\u001b[0m \u001b[0mkna1\u001b[0m\u001b[1;33m[\u001b[0m\u001b[1;34m'Customer'\u001b[0m\u001b[1;33m]\u001b[0m\u001b[1;33m.\u001b[0m\u001b[0mapply\u001b[0m\u001b[1;33m(\u001b[0m\u001b[0mint\u001b[0m\u001b[1;33m)\u001b[0m\u001b[1;33m\u001b[0m\u001b[1;33m\u001b[0m\u001b[0m\n\u001b[0m\u001b[0;32m      5\u001b[0m \u001b[0mzv17\u001b[0m\u001b[1;33m.\u001b[0m\u001b[0mrename\u001b[0m\u001b[1;33m(\u001b[0m\u001b[0mcolumns\u001b[0m\u001b[1;33m=\u001b[0m\u001b[1;33m{\u001b[0m\u001b[1;34m'Linked ship-to'\u001b[0m\u001b[1;33m:\u001b[0m\u001b[1;34m'Customer'\u001b[0m\u001b[1;33m}\u001b[0m\u001b[1;33m,\u001b[0m\u001b[0minplace\u001b[0m\u001b[1;33m=\u001b[0m\u001b[1;32mTrue\u001b[0m\u001b[1;33m)\u001b[0m\u001b[1;33m\u001b[0m\u001b[1;33m\u001b[0m\u001b[0m\n",
            "\u001b[1;32m~\\Anaconda3\\lib\\site-packages\\pandas\\core\\series.py\u001b[0m in \u001b[0;36mapply\u001b[1;34m(self, func, convert_dtype, args, **kwds)\u001b[0m\n\u001b[0;32m   3846\u001b[0m             \u001b[1;32melse\u001b[0m\u001b[1;33m:\u001b[0m\u001b[1;33m\u001b[0m\u001b[1;33m\u001b[0m\u001b[0m\n\u001b[0;32m   3847\u001b[0m                 \u001b[0mvalues\u001b[0m \u001b[1;33m=\u001b[0m \u001b[0mself\u001b[0m\u001b[1;33m.\u001b[0m\u001b[0mastype\u001b[0m\u001b[1;33m(\u001b[0m\u001b[0mobject\u001b[0m\u001b[1;33m)\u001b[0m\u001b[1;33m.\u001b[0m\u001b[0mvalues\u001b[0m\u001b[1;33m\u001b[0m\u001b[1;33m\u001b[0m\u001b[0m\n\u001b[1;32m-> 3848\u001b[1;33m                 \u001b[0mmapped\u001b[0m \u001b[1;33m=\u001b[0m \u001b[0mlib\u001b[0m\u001b[1;33m.\u001b[0m\u001b[0mmap_infer\u001b[0m\u001b[1;33m(\u001b[0m\u001b[0mvalues\u001b[0m\u001b[1;33m,\u001b[0m \u001b[0mf\u001b[0m\u001b[1;33m,\u001b[0m \u001b[0mconvert\u001b[0m\u001b[1;33m=\u001b[0m\u001b[0mconvert_dtype\u001b[0m\u001b[1;33m)\u001b[0m\u001b[1;33m\u001b[0m\u001b[1;33m\u001b[0m\u001b[0m\n\u001b[0m\u001b[0;32m   3849\u001b[0m \u001b[1;33m\u001b[0m\u001b[0m\n\u001b[0;32m   3850\u001b[0m         \u001b[1;32mif\u001b[0m \u001b[0mlen\u001b[0m\u001b[1;33m(\u001b[0m\u001b[0mmapped\u001b[0m\u001b[1;33m)\u001b[0m \u001b[1;32mand\u001b[0m \u001b[0misinstance\u001b[0m\u001b[1;33m(\u001b[0m\u001b[0mmapped\u001b[0m\u001b[1;33m[\u001b[0m\u001b[1;36m0\u001b[0m\u001b[1;33m]\u001b[0m\u001b[1;33m,\u001b[0m \u001b[0mSeries\u001b[0m\u001b[1;33m)\u001b[0m\u001b[1;33m:\u001b[0m\u001b[1;33m\u001b[0m\u001b[1;33m\u001b[0m\u001b[0m\n",
            "\u001b[1;32mpandas\\_libs\\lib.pyx\u001b[0m in \u001b[0;36mpandas._libs.lib.map_infer\u001b[1;34m()\u001b[0m\n",
            "\u001b[1;31mValueError\u001b[0m: invalid literal for int() with base 10: 'AANL000020'"
          ]
        }
      ],
      "source": [
        "kna1 = pd.read_excel(r'C:\\Users\\40101972\\OneDrive - Anheuser-Busch InBev\\Kumaresh Sadasivan\\Anomaly Execution\\CMD\\Europe\\KNA1.xlsx')\n",
        "kna1_tax = pd.read_excel(r'C:\\Users\\40101972\\OneDrive - Anheuser-Busch InBev\\Kumaresh Sadasivan\\Anomaly Execution\\CMD\\Europe\\kna1_tax.xlsx')\n",
        "kna1.drop(kna1[kna1['Customer'].isnull()].index,inplace=True)\n",
        "kna1['Customer'] = kna1['Customer'].apply(int)\n",
        "zv17.rename(columns={'Linked ship-to':'Customer'},inplace=True)"
      ]
    },
    {
      "cell_type": "code",
      "execution_count": null,
      "metadata": {
        "id": "87E4rMMxnYH1"
      },
      "outputs": [],
      "source": [
        ""
      ]
    },
    {
      "cell_type": "code",
      "execution_count": null,
      "metadata": {
        "id": "KkdtOeoinYH2"
      },
      "outputs": [],
      "source": [
        ""
      ]
    },
    {
      "cell_type": "code",
      "execution_count": null,
      "metadata": {
        "id": "FWAsLAntnYH2"
      },
      "outputs": [],
      "source": [
        ""
      ]
    },
    {
      "cell_type": "code",
      "execution_count": null,
      "metadata": {
        "id": "keIxoFe5nYH3"
      },
      "outputs": [],
      "source": [
        "kna1.head()"
      ]
    },
    {
      "cell_type": "code",
      "execution_count": null,
      "metadata": {
        "id": "jGUmVk93nYH5"
      },
      "outputs": [],
      "source": [
        ""
      ]
    },
    {
      "cell_type": "markdown",
      "metadata": {
        "id": "yh_b2fZZnYH7"
      },
      "source": [
        "### TAX ANOMALY CHECK"
      ]
    },
    {
      "cell_type": "code",
      "execution_count": null,
      "metadata": {
        "id": "D1jhG_0AnYH_"
      },
      "outputs": [],
      "source": [
        "df_1 = pd.merge(kna1_tax,knvv[['Customer','SOrg.']],on='Customer',how='left')\n",
        "df_1['Tax Number 1'] = df_1['Tax Number 1'].apply(str) \n",
        "\n",
        "tax=[]\n",
        "for i in range(df_1.shape[0]):\n",
        "    if ((df_1['Group'][i] == \"Z003\") and ((df_1['SOrg.'][i] == \"BE11\") or (df_1['SOrg.'][i] == \"IT01\"))):\n",
        "        if df_1['Tax Number 1'][i] == \"\": \n",
        "            tax.append(\"Anomaly\")\n",
        "        else:\n",
        "            tax.append(\"No Anomaly\")\n",
        "    else:\n",
        "        tax.append(\"Out of Scope\")\n",
        "df_1['Tax Anomaly Check'] = pd.DataFrame(tax) \n",
        "\n",
        "df_1.to_csv(r'C:\\Users\\40101972\\OneDrive - Anheuser-Busch InBev\\Kumaresh Sadasivan\\Anomaly Execution\\CMD\\Europe\\Output\\Revised Logics\\tax_anomaly.csv')"
      ]
    },
    {
      "cell_type": "code",
      "execution_count": null,
      "metadata": {
        "id": "YISHKC_anYIC"
      },
      "outputs": [],
      "source": [
        ""
      ]
    },
    {
      "cell_type": "code",
      "execution_count": null,
      "metadata": {
        "id": "IzxYd466nYID"
      },
      "outputs": [],
      "source": [
        "df_1['Tax Anomaly Check'].value_counts()"
      ]
    },
    {
      "cell_type": "code",
      "execution_count": null,
      "metadata": {
        "id": "1DahOlTQnYIF"
      },
      "outputs": [],
      "source": [
        ""
      ]
    },
    {
      "cell_type": "code",
      "execution_count": null,
      "metadata": {
        "id": "i65kGSnhnYIG"
      },
      "outputs": [],
      "source": [
        ""
      ]
    },
    {
      "cell_type": "markdown",
      "metadata": {
        "id": "_RHRz5XKnYIH"
      },
      "source": [
        "## PAYMENT TERMS CHECK"
      ]
    },
    {
      "cell_type": "code",
      "execution_count": null,
      "metadata": {
        "id": "JFZsDzLTnYIH"
      },
      "outputs": [],
      "source": [
        "df_2 = pd.merge(zv17,kna1[kna1['Account group'] == \"Z002\"][['Customer','A5']],on='Customer',how='left')\n",
        "df_2.drop(\"Customer\",axis=1,inplace=True)\n",
        "df_2.rename(columns={'Customer Number':'Customer'},inplace=True)\n",
        "df_2['Customer'] = df_2['Customer'].apply(str)\n",
        "\n",
        "knb1['Customer'] = knb1['Customer'].apply(str)\n",
        "knb1['Customer_start'] = knb1['Customer'].apply(lambda x : x[0])\n",
        "knb1['3series'] = (knb1['Customer_start'] == '3')\n",
        "knb1['CoCd'] = knb1['CoCd'].apply(str)\n",
        "df_2['Customer'] = df_2['Customer'].apply(str)\n",
        "\n",
        "knb1['Country'] = knb1['CoCd'].apply(lambda x : x[:2])\n",
        "\n",
        "df_payt = pd.merge(knb1[knb1['3series'] == 1][['Customer','Country','PayT']],df_2,how='left',on='Customer')\n",
        "df_payt.drop_duplicates(keep='first',inplace=True)\n",
        "df_payt.index = range(df_payt.shape[0])\n",
        "\n"
      ]
    },
    {
      "cell_type": "code",
      "execution_count": null,
      "metadata": {
        "id": "G8siZzPhnYII"
      },
      "outputs": [],
      "source": [
        "df_payt"
      ]
    },
    {
      "cell_type": "code",
      "execution_count": null,
      "metadata": {
        "id": "2CfIjK6nnYIK"
      },
      "outputs": [],
      "source": [
        ""
      ]
    },
    {
      "cell_type": "code",
      "execution_count": null,
      "metadata": {
        "id": "NX5FpwC5nYIL"
      },
      "outputs": [],
      "source": [
        ""
      ]
    },
    {
      "cell_type": "code",
      "execution_count": null,
      "metadata": {
        "id": "QlQU4nUHnYIL"
      },
      "outputs": [],
      "source": [
        ""
      ]
    },
    {
      "cell_type": "code",
      "execution_count": null,
      "metadata": {
        "id": "ks9D6kJXnYIN"
      },
      "outputs": [],
      "source": [
        ""
      ]
    },
    {
      "cell_type": "code",
      "execution_count": null,
      "metadata": {
        "id": "2In_-VTcnYIN"
      },
      "outputs": [],
      "source": [
        "payt = []\n",
        "df_payt['A5'].fillna(\"nan\",inplace=True)\n",
        "for i in range(df_payt.shape[0]):\n",
        "    if df_payt['A5'][i] == 'nan':\n",
        "        payt.append(\"Attribute 5 value missing\")\n",
        "    elif ((df_payt['Country'][i] == \"NL\") or (df_payt['Country'][i] == \"BE\") or (df_payt['Country'][i] == \"LU\")):\n",
        "        if df_payt['A5'][i] == 10:\n",
        "            if df_payt['PayT'][i] == 'nan':\n",
        "                payt.append(\"Anomaly\")\n",
        "            else:\n",
        "                payt.append(\"Not Anomaly\") \n",
        "        elif df_payt['A5'][i] == 20:\n",
        "            if df_payt['PayT'][i] == '000A':\n",
        "                payt.append(\"Not Anomaly\")\n",
        "            else:\n",
        "                payt.append(\"Anomaly\")\n",
        "        else:\n",
        "            payt.append(\"Out of scope\")\n",
        "                \n",
        "    elif ((df_payt['Country'][i] == \"AT\") or (df_payt['Country'][i] == \"CH\") or (df_payt['Country'][i] == \"PL\") or (df_payt['Country'][i] == \"IT\")):\n",
        "        if (df_payt['A5'][i] == 10) or (df_payt['A5'][i] == 20) :\n",
        "            if df_payt['PayT'][i] == 'nan':\n",
        "                payt.append(\"Anomaly\")\n",
        "            else:\n",
        "                payt.append(\"Not Anomaly\")     \n",
        "        else:\n",
        "            payt.append(\"Out of scope\")\n",
        "            \n",
        "    elif ((df_payt['Country'][i] == \"SE\") or (df_payt['Country'][i] == \"DK\") or (df_payt['Country'][i] == \"FI\") or (df_payt['Country'][i] == \"NO\")):\n",
        "        if (df_payt['A5'][i] == 10) or (df_payt['A5'][i] == 20) :\n",
        "            if (df_payt['PayT'][i] == '015I') or (df_payt['PayT'][i] == '030I'):\n",
        "                payt.append(\"Not Anomaly\")\n",
        "            else:\n",
        "                payt.append(\"Anomaly\") \n",
        "        else:\n",
        "            payt.append(\"Out of scope\")\n",
        "    \n",
        "    elif df_payt['Country'][i] == \"DE\":\n",
        "        if df_payt['A5'][i] == 20:\n",
        "            if (df_payt['PayT'][i] == '001I') :\n",
        "                payt.append(\"Not Anomaly\")\n",
        "            else:\n",
        "                payt.append(\"Anomaly\") \n",
        "        elif df_payt['A5'][i] == 10:\n",
        "            if df_payt['PayT'][i] == 'nan':\n",
        "                payt.append(\"Anomaly\")\n",
        "            else:\n",
        "                payt.append(\"Not Anomaly\")\n",
        "    \n",
        "    elif df_payt['Country'][i] == \"FR\":\n",
        "        if (df_payt['PayT'][i] == \"030M\") or (df_payt['PayT'][i] == \"045M\"):\n",
        "            payt.append(\"Not Anomaly\")\n",
        "        else:\n",
        "            payt.append(\"Out of scope\")\n",
        "        \n",
        "    elif df_payt['Country'][i] == \"GB\":\n",
        "        if df_payt['A5'][i] == 10:\n",
        "            if df_payt['PayT'][i] == \"nan\":\n",
        "                payt.append(\"Anomaly\")\n",
        "            else:\n",
        "                payt.append(\"Not Anomaly\")\n",
        "        else:\n",
        "            payt.append(\"Out of scope\")\n",
        "            \n",
        "df_payt['Payment Terms Check'] = pd.DataFrame(payt)\n"
      ]
    },
    {
      "cell_type": "code",
      "execution_count": null,
      "metadata": {
        "id": "qAka2Hg8nYIO"
      },
      "outputs": [],
      "source": [
        "df_payt['Payment Terms Check'].value_counts()"
      ]
    },
    {
      "cell_type": "code",
      "execution_count": null,
      "metadata": {
        "id": "mg3TV8uGnYIO"
      },
      "outputs": [],
      "source": [
        "df_payt.to_csv(r'C:\\Users\\40101972\\OneDrive - Anheuser-Busch InBev\\Kumaresh Sadasivan\\Anomaly Execution\\CMD\\Europe\\Output\\Revised Logics\\Payment_terms.csv')"
      ]
    },
    {
      "cell_type": "markdown",
      "metadata": {
        "id": "Nv1wX9X4nYIP"
      },
      "source": [
        "### CREDIT LIMIT CHECK"
      ]
    },
    {
      "cell_type": "code",
      "execution_count": null,
      "metadata": {
        "id": "GLP-01NSnYIP",
        "outputId": "04b3ccb1-db66-4ae2-a76d-f4b0ffa0aa8d",
        "colab": {
          "base_uri": "https://localhost:8080/"
        }
      },
      "outputs": [
        {
          "output_type": "error",
          "ename": "NameError",
          "evalue": "ignored",
          "traceback": [
            "\u001b[0;31m---------------------------------------------------------------------------\u001b[0m",
            "\u001b[0;31mNameError\u001b[0m                                 Traceback (most recent call last)",
            "\u001b[0;32m<ipython-input-1-1623ead737fd>\u001b[0m in \u001b[0;36m<module>\u001b[0;34m()\u001b[0m\n\u001b[0;32m----> 1\u001b[0;31m \u001b[0mknkk\u001b[0m\u001b[0;34m[\u001b[0m\u001b[0;34m'Cred.contr.area'\u001b[0m\u001b[0;34m]\u001b[0m \u001b[0;34m=\u001b[0m \u001b[0mknkk\u001b[0m\u001b[0;34m[\u001b[0m\u001b[0;34m'Cred.contr.area'\u001b[0m\u001b[0;34m]\u001b[0m\u001b[0;34m.\u001b[0m\u001b[0mapply\u001b[0m\u001b[0;34m(\u001b[0m\u001b[0mstr\u001b[0m\u001b[0;34m)\u001b[0m\u001b[0;34m\u001b[0m\u001b[0;34m\u001b[0m\u001b[0m\n\u001b[0m\u001b[1;32m      2\u001b[0m \u001b[0mknkk\u001b[0m\u001b[0;34m[\u001b[0m\u001b[0;34m'Country'\u001b[0m\u001b[0;34m]\u001b[0m \u001b[0;34m=\u001b[0m \u001b[0mknkk\u001b[0m\u001b[0;34m[\u001b[0m\u001b[0;34m'Cred.contr.area'\u001b[0m\u001b[0;34m]\u001b[0m\u001b[0;34m.\u001b[0m\u001b[0mapply\u001b[0m\u001b[0;34m(\u001b[0m\u001b[0;32mlambda\u001b[0m \u001b[0mx\u001b[0m \u001b[0;34m:\u001b[0m \u001b[0mx\u001b[0m\u001b[0;34m[\u001b[0m\u001b[0;34m:\u001b[0m\u001b[0;36m2\u001b[0m\u001b[0;34m]\u001b[0m\u001b[0;34m)\u001b[0m\u001b[0;34m\u001b[0m\u001b[0;34m\u001b[0m\u001b[0m\n\u001b[1;32m      3\u001b[0m \u001b[0mknkk\u001b[0m\u001b[0;34m[\u001b[0m\u001b[0;34m'Customer'\u001b[0m\u001b[0;34m]\u001b[0m \u001b[0;34m=\u001b[0m \u001b[0mknkk\u001b[0m\u001b[0;34m[\u001b[0m\u001b[0;34m'Customer'\u001b[0m\u001b[0;34m]\u001b[0m\u001b[0;34m.\u001b[0m\u001b[0mapply\u001b[0m\u001b[0;34m(\u001b[0m\u001b[0mstr\u001b[0m\u001b[0;34m)\u001b[0m\u001b[0;34m\u001b[0m\u001b[0;34m\u001b[0m\u001b[0m\n\u001b[1;32m      4\u001b[0m \u001b[0mknkk\u001b[0m\u001b[0;34m[\u001b[0m\u001b[0;34m'Customer_start'\u001b[0m\u001b[0;34m]\u001b[0m \u001b[0;34m=\u001b[0m \u001b[0mknkk\u001b[0m\u001b[0;34m[\u001b[0m\u001b[0;34m'Customer'\u001b[0m\u001b[0;34m]\u001b[0m\u001b[0;34m.\u001b[0m\u001b[0mapply\u001b[0m\u001b[0;34m(\u001b[0m\u001b[0;32mlambda\u001b[0m \u001b[0mx\u001b[0m\u001b[0;34m:\u001b[0m \u001b[0mx\u001b[0m\u001b[0;34m[\u001b[0m\u001b[0;36m0\u001b[0m\u001b[0;34m]\u001b[0m\u001b[0;34m)\u001b[0m\u001b[0;34m\u001b[0m\u001b[0;34m\u001b[0m\u001b[0m\n\u001b[1;32m      5\u001b[0m \u001b[0mknkk\u001b[0m\u001b[0;34m[\u001b[0m\u001b[0;34m'Credit limit'\u001b[0m\u001b[0;34m]\u001b[0m \u001b[0;34m=\u001b[0m \u001b[0mknkk\u001b[0m\u001b[0;34m[\u001b[0m\u001b[0;34m'Credit limit'\u001b[0m\u001b[0;34m]\u001b[0m\u001b[0;34m.\u001b[0m\u001b[0mapply\u001b[0m\u001b[0;34m(\u001b[0m\u001b[0mstr\u001b[0m\u001b[0;34m)\u001b[0m\u001b[0;34m\u001b[0m\u001b[0;34m\u001b[0m\u001b[0m\n",
            "\u001b[0;31mNameError\u001b[0m: name 'knkk' is not defined"
          ]
        }
      ],
      "source": [
        "knkk['Cred.contr.area'] = knkk['Cred.contr.area'].apply(str)\n",
        "knkk['Country'] = knkk['Cred.contr.area'].apply(lambda x : x[:2])\n",
        "knkk['Customer'] = knkk['Customer'].apply(str)\n",
        "knkk['Customer_start'] = knkk['Customer'].apply(lambda x: x[0])\n",
        "knkk['Credit limit'] = knkk['Credit limit'].apply(str)\n",
        "\n",
        "df_cred = pd.merge(knkk[knkk['Customer_start'] == \"3\"][['Customer','Credit limit','Country']],df_2[['Customer','A5']],on='Customer',how='left')\n",
        "df_cred['A5'].fillna(\"nan\",inplace=True)\n",
        "df_cred.drop_duplicates(keep='first',inplace=True)\n",
        "df_cred.index = range(df_cred.shape[0])\n",
        "df_cred['Credit limit'] = df_cred['Credit limit'].apply(lambda x : x.lstrip())\n",
        "df_cred['Credit limit'] = df_cred['Credit limit'].apply(lambda x : x.rstrip())"
      ]
    },
    {
      "cell_type": "code",
      "execution_count": null,
      "metadata": {
        "id": "Be7a4vj6nYIQ"
      },
      "outputs": [],
      "source": [
        "knkk"
      ]
    },
    {
      "cell_type": "code",
      "execution_count": null,
      "metadata": {
        "id": "tJyx5oUfnYIR"
      },
      "outputs": [],
      "source": [
        "cred = []\n",
        "for i in range(df_cred.shape[0]):\n",
        "    if df_cred['A5'][i] == 'nan':\n",
        "        cred.append(\"Attribute 5 is missing\")\n",
        "        \n",
        "    elif ((df_cred['Country'][i] == \"IT\") or (df_cred['Country'][i] == \"DK\") or (df_cred['Country'][i] == \"FI\") or (df_cred['Country'][i] == \"SE\") or (df_cred['Country'][i] == \"NO\") or (df_cred['Country'][i] == \"GB\") or (df_cred['Country'][i] == \"FR\")):\n",
        "        if df_cred['A5'][i] == 10:\n",
        "            if df_cred['Credit limit'][i] == 'nan':\n",
        "                cred.append(\"Anomaly\")\n",
        "            else:\n",
        "                cred.append(\"Not Anomaly\")\n",
        "        elif df_cred['A5'][i] == 20:\n",
        "            if df_cred['Credit limit'][i] == 'nan':\n",
        "                cred.append(\"Anomaly\")\n",
        "            else:\n",
        "                cred.append(\"Not Anomaly\")\n",
        "        else:\n",
        "            cred.append(\"Out of scope\")\n",
        "        \n",
        "    elif ((df_cred['Country'][i] == \"BE\") or (df_cred['Country'][i] == \"NL\")):\n",
        "        if (df_cred['A5'][i] == 10):\n",
        "            if df_cred['Credit limit'][i] == 'nan':\n",
        "                cred.append(\"Anomaly\")\n",
        "            else:\n",
        "                cred.append(\"Not Anomaly\")\n",
        "        elif (df_cred['A5'][i] == 20):\n",
        "            if df_cred['Credit limit'][i] == '0,01':\n",
        "                cred.append(\"Not Anomaly\")\n",
        "            else:\n",
        "                cred.append(\"Anomaly\")\n",
        "        else:\n",
        "            cred.append(\"Out of scope\")\n",
        "                \n",
        "    elif (df_cred['Country'][i] == \"DE\"):\n",
        "        if df_cred['A5'][i] == 10:\n",
        "            if df_cred['Credit limit'][i] == '0,01':\n",
        "                cred.append(\"Not Anomaly\")\n",
        "            else:\n",
        "                cred.append(\"Anomaly\")\n",
        "                \n",
        "    elif (df_cred['Country'][i] == \"LU\"):\n",
        "        if df_cred['A5'][i] == 5 :\n",
        "            if df_cred['Credit limit'][i] == '100':\n",
        "                cred.append(\"Not Anomaly\")\n",
        "            else:\n",
        "                cred.append(\"Anomaly\")\n",
        "        elif df_cred['A5'][i] == 10:\n",
        "            if df_cred['Credit limit'][i] == '100':\n",
        "                cred.append(\"Not Anomaly\")\n",
        "            else:\n",
        "                cred.append(\"Anomaly\")\n",
        "                \n",
        "    elif ((df_cred['Country'][i] == \"AT\") or (df_cred['Country'][i] == \"PL\") or (df_cred['Country'][i] == \"CH\")):\n",
        "        if df_cred['Credit limit'][i] == \"nan\":\n",
        "            cred.append(\"Anomaly\")\n",
        "        else:\n",
        "            cred.append(\"Not Anomaly\")\n",
        "    else:\n",
        "        cred.append(\"Out of scope\")\n",
        "                \n",
        "df_cred['Credit Limit Anomaly Check'] = pd.DataFrame(cred)\n"
      ]
    },
    {
      "cell_type": "code",
      "execution_count": null,
      "metadata": {
        "id": "RTol8ia4nYIS"
      },
      "outputs": [],
      "source": [
        "df_cred['Credit Limit Anomaly Check'].value_counts()"
      ]
    },
    {
      "cell_type": "code",
      "execution_count": null,
      "metadata": {
        "id": "BPU7_aKvnYIS"
      },
      "outputs": [],
      "source": [
        "df_cred.to_csv(r'C:\\Users\\40101972\\OneDrive - Anheuser-Busch InBev\\Kumaresh Sadasivan\\Anomaly Execution\\CMD\\Europe\\Output\\Revised Logics\\Credit_terms.csv')"
      ]
    },
    {
      "cell_type": "markdown",
      "metadata": {
        "id": "aukPplHGnYIT"
      },
      "source": [
        "### RISK CATEGORY CHECK"
      ]
    },
    {
      "cell_type": "code",
      "execution_count": null,
      "metadata": {
        "id": "5h3L631znYIT"
      },
      "outputs": [],
      "source": [
        "df_risk = pd.merge(knkk[knkk['Customer_start'] == \"3\"][['Customer','Risk category','Country']],df_2[['Customer','A5']],on='Customer',how='left')\n",
        "df_risk.fillna(\"nan\",inplace=True)"
      ]
    },
    {
      "cell_type": "code",
      "execution_count": null,
      "metadata": {
        "id": "1xaZnOAOnYIU"
      },
      "outputs": [],
      "source": [
        "risk = []\n",
        "for i in range(df_risk.shape[0]):\n",
        "    if df_risk['A5'][i] == 'nan': \n",
        "        risk.append('Attribute 5 is missing')\n",
        "    elif (df_risk['Country'][i] == \"NL\") or (df_risk['Country'][i] == \"BE\") or (df_risk['Country'][i] == \"AT\") or (df_risk['Country'][i] == \"CH\") or (df_risk['Country'][i] == \"PL\") or (df_risk['Country'][i] == \"DE\") or (df_risk['Country'][i] == \"IT\"):\n",
        "        if df_risk['A5'][i] == 10:\n",
        "            if df_risk['Risk category'][i] == 'nan':\n",
        "                risk.append(\"Anomaly\")\n",
        "            else:\n",
        "                risk.append(\"Not Anomaly\")\n",
        "        elif df_risk['A5'][i] == 20:\n",
        "            if df_risk['Risk category'][i] == \"D\":\n",
        "                risk.append(\"Not Anomaly\")\n",
        "            else: \n",
        "                risk.append('Anomaly')\n",
        "    elif (df_risk['Country'][i] == \"SE\") or (df_risk['Country'][i] == \"DK\") or (df_risk['Country'][i] == \"FI\") or (df_risk['Country'][i] == \"NO\"):\n",
        "        if (df_risk['A5'][i] == 10) or (df_risk['A5'][i] == 20) :\n",
        "            if df_risk['Risk category'][i] == 'nan':\n",
        "                risk.append(\"Anomaly\")\n",
        "            else:\n",
        "                risk.append(\"Not Anomaly\")\n",
        "    elif df_risk['Country'][i] == \"FR\":\n",
        "        if df_risk['Risk category'] == \"D\":\n",
        "            risk.append(\"Not Anomaly\")\n",
        "        else:\n",
        "            risk.append(\"Anomaly\")\n",
        "    elif df_risk['Country'][i] == \"LU\":\n",
        "        if df_risk['Risk category'][i] == \"F\":\n",
        "            risk.append(\"Not Anomaly\")\n",
        "        else:\n",
        "            risk.append(\"Anomaly\")\n",
        "    elif df_risk['Country'][i] == \"GB\":\n",
        "        if df_risk['A5'][i] == 10:\n",
        "            if df_risk['Risk category'][i] == 'nan':\n",
        "                risk.append(\"Anomaly\")\n",
        "            else:\n",
        "                risk.append(\"Not Anomaly\")\n",
        "        elif df_risk['A5'][i] == 20:\n",
        "            if df_risk['Risk category'][i] == \"E\":\n",
        "                risk.append(\"Not Anomaly\")\n",
        "            else: \n",
        "                risk.append('Anomaly')\n",
        "    \n",
        "        else:\n",
        "            risk.append(\"Out of Scope\")\n",
        "df_risk['Anomaly'] = pd.DataFrame(risk)    "
      ]
    },
    {
      "cell_type": "code",
      "execution_count": null,
      "metadata": {
        "id": "amWJJmp8nYIV"
      },
      "outputs": [],
      "source": [
        "df_risk.head()"
      ]
    },
    {
      "cell_type": "code",
      "execution_count": null,
      "metadata": {
        "id": "7yxaMEZjnYIV"
      },
      "outputs": [],
      "source": [
        "df_risk['Anomaly'].value_counts()"
      ]
    },
    {
      "cell_type": "code",
      "execution_count": null,
      "metadata": {
        "id": "3vDITuZWnYIW"
      },
      "outputs": [],
      "source": [
        "df_risk.to_csv(r'C:\\Users\\40101972\\OneDrive - Anheuser-Busch InBev\\Kumaresh Sadasivan\\Anomaly Execution\\CMD\\Europe\\Output\\Revised Logics\\risk_category.csv')"
      ]
    },
    {
      "cell_type": "markdown",
      "metadata": {
        "id": "CuOpqQQAnYIX"
      },
      "source": [
        "### ACCOUNTING CLERK CHECK"
      ]
    },
    {
      "cell_type": "code",
      "execution_count": null,
      "metadata": {
        "id": "gtpHJeOrnYIX"
      },
      "outputs": [],
      "source": [
        "df_clerk = knb1[knb1['Customer_start'] == '3'][['Customer','Acctg clerk']]\n",
        "df_clerk['Acctg clerk'].fillna(\"nan\",inplace=True)\n",
        "df_clerk['Accounting Clerk Check'] = (df_clerk['Acctg clerk'] != 'nan')\n",
        "df_clerk.replace(to_replace=[True,False],value=['Not Anomaly','Anomaly'],inplace=True)"
      ]
    },
    {
      "cell_type": "code",
      "execution_count": null,
      "metadata": {
        "id": "jEwLgSOLnYIX"
      },
      "outputs": [],
      "source": [
        ""
      ]
    },
    {
      "cell_type": "code",
      "execution_count": null,
      "metadata": {
        "id": "_dZ-oBmWnYIY"
      },
      "outputs": [],
      "source": [
        ""
      ]
    },
    {
      "cell_type": "code",
      "execution_count": null,
      "metadata": {
        "id": "Bkxz_ytLnYIY"
      },
      "outputs": [],
      "source": [
        ""
      ]
    },
    {
      "cell_type": "code",
      "execution_count": null,
      "metadata": {
        "id": "QKlNDDNAnYIY"
      },
      "outputs": [],
      "source": [
        "df_clerk.head()"
      ]
    },
    {
      "cell_type": "code",
      "execution_count": null,
      "metadata": {
        "id": "QkVBcfnhnYIY"
      },
      "outputs": [],
      "source": [
        "df_clerk.to_csv(r'C:\\Users\\40101972\\OneDrive - Anheuser-Busch InBev\\Kumaresh Sadasivan\\Anomaly Execution\\CMD\\Europe\\Output\\Revised Logics\\accounting_clerk.csv')"
      ]
    },
    {
      "cell_type": "markdown",
      "metadata": {
        "id": "WHw-Hq4VnYIY"
      },
      "source": [
        "### ANOMALY IF NAN, OTHERWISE NO ANOMALY - FOR ACCOUNTING CLERK ANOMALY - knkk "
      ]
    },
    {
      "cell_type": "markdown",
      "metadata": {
        "id": "f9Vk3Vv3nYIZ"
      },
      "source": [
        "### Shipping condition anomaly - merge zv17_soldto with kna1,then merge with knvv - Take A5 value"
      ]
    },
    {
      "cell_type": "code",
      "execution_count": null,
      "metadata": {
        "id": "0piUNAMtnYIZ"
      },
      "outputs": [],
      "source": [
        "zv17soldto.rename(columns={\"Linked ship-to\":\"Customer\"},inplace=True)\n",
        "df_ship = pd.merge(zv17soldto[['Customer Number','Customer']],kna1[['Customer','A5']],on='Customer',how='left')"
      ]
    },
    {
      "cell_type": "code",
      "execution_count": null,
      "metadata": {
        "id": "aHzO_nq3nYIZ"
      },
      "outputs": [],
      "source": [
        "zv17soldto"
      ]
    },
    {
      "cell_type": "code",
      "execution_count": null,
      "metadata": {
        "id": "62caN1xanYIa"
      },
      "outputs": [],
      "source": [
        "df_ship"
      ]
    },
    {
      "cell_type": "code",
      "execution_count": null,
      "metadata": {
        "id": "8G4_WQDsnYIa"
      },
      "outputs": [],
      "source": [
        "knvv['Customer'] = knvv['Customer'].apply(str)\n",
        "knvv['Customer_start'] = knvv['Customer'].apply(lambda x : x[0])\n",
        "knvv['one series'] = (knvv['Customer_start'] == \"1\")\n",
        "knvv['len'] = knvv['Customer'].apply(len)\n",
        "knvv_new = knvv[(knvv['one series'] == 1) & (knvv['len'] == 8)]\n",
        "df_ship['Customer'] = df_ship['Customer'].apply(str)\n",
        "x = pd.merge(knvv_new,df_ship,on='Customer',how='left')\n",
        "x['Country'] = x['SOrg.'].apply(lambda x : x[:2])\n",
        "x['A5'].fillna('nan',inplace=True)"
      ]
    },
    {
      "cell_type": "code",
      "execution_count": null,
      "metadata": {
        "id": "siSJQkNxnYIb"
      },
      "outputs": [],
      "source": [
        "ship = []\n",
        "for i in range(x.shape[0]):\n",
        "    if x['A5'][i] == 'nan':\n",
        "        ship.append(\"Attribute 5 value missing\")\n",
        "    elif (x['Country'][i] == \"BE\") or (x['Country'][i] == \"IT\") or (x['Country'][i] == \"AT\") or (x['Country'][i] == \"DE\") or (x['Country'][i] == \"LU\") or (x['Country'][i] == \"FR\"):\n",
        "        if x['SC'][i] == \"T1\":\n",
        "            ship.append(\"Not Anomaly\")\n",
        "        else:\n",
        "            ship.append(\"Anomaly\")\n",
        "            \n",
        "    elif (x['Country'][i] == \"DK\") or (x['Country'][i] == \"FI\") or (x['Country'][i] == \"SE\") or (x['Country'][i] == \"NO\"):\n",
        "        if x['SC'][i] == \"X1\":\n",
        "            ship.append(\"Not Anomaly\")\n",
        "        else:\n",
        "            ship.append(\"Anomaly\")\n",
        "            \n",
        "    elif x['Country'][i] == \"NL\":\n",
        "        if x['A5'][i] == 10:\n",
        "            if x['SC'][i] == \"TJ\":\n",
        "                ship.append(\"Not Anomaly\")\n",
        "            else:\n",
        "                ship.append(\"Anomaly\")\n",
        "        else:\n",
        "            if x['SC'][i] == \"T1\":\n",
        "                ship.append(\"Not Anomaly\")\n",
        "            else:\n",
        "                ship.append(\"Anomaly\")\n",
        "                \n",
        "    elif x['Country'][i] == \"GB\":\n",
        "        if x['A5'][i] == 10:\n",
        "            if x['SC'][i] == \"nan\":\n",
        "                ship.append(\"Anomaly\")\n",
        "            else:\n",
        "                ship.append(\"Not Anomaly\")\n",
        "        else:\n",
        "            if x['SC'][i] == \"T1\":\n",
        "                ship.append(\"Not Anomaly\")\n",
        "            else:\n",
        "                ship.append(\"Anomaly\")\n",
        "        \n",
        "        \n",
        "x['Shipping Anomaly'] = pd.DataFrame(ship)\n",
        "x.drop_duplicates(keep='first',inplace=True)"
      ]
    },
    {
      "cell_type": "code",
      "execution_count": null,
      "metadata": {
        "id": "Xpx7o_DknYIb"
      },
      "outputs": [],
      "source": [
        "x.head()"
      ]
    },
    {
      "cell_type": "code",
      "execution_count": null,
      "metadata": {
        "id": "WtckIPwBnYIc"
      },
      "outputs": [],
      "source": [
        "x['Shipping Anomaly'].value_counts()"
      ]
    },
    {
      "cell_type": "code",
      "execution_count": null,
      "metadata": {
        "id": "LYU9Fy6-nYIc"
      },
      "outputs": [],
      "source": [
        "x.to_csv(r'C:\\Users\\40101972\\OneDrive - Anheuser-Busch InBev\\Kumaresh Sadasivan\\Anomaly Execution\\CMD\\Europe\\Output\\Revised Logics\\shipping_condition.csv')"
      ]
    },
    {
      "cell_type": "code",
      "execution_count": null,
      "metadata": {
        "id": "mnA65nyInYIc"
      },
      "outputs": [],
      "source": [
        ""
      ]
    },
    {
      "cell_type": "code",
      "execution_count": null,
      "metadata": {
        "id": "IERXTdXLnYIc"
      },
      "outputs": [],
      "source": [
        ""
      ]
    }
  ],
  "metadata": {
    "kernelspec": {
      "display_name": "Python 3",
      "language": "python",
      "name": "python3"
    },
    "language_info": {
      "codemirror_mode": {
        "name": "ipython",
        "version": 3
      },
      "file_extension": ".py",
      "mimetype": "text/x-python",
      "name": "python",
      "nbconvert_exporter": "python",
      "pygments_lexer": "ipython3",
      "version": "3.8.3"
    },
    "colab": {
      "name": "Copy of CMD Anomaly-Copy_Updated.ipynb",
      "provenance": [],
      "collapsed_sections": [
        "aukPplHGnYIT",
        "CuOpqQQAnYIX",
        "WHw-Hq4VnYIY",
        "f9Vk3Vv3nYIZ"
      ],
      "include_colab_link": true
    }
  },
  "nbformat": 4,
  "nbformat_minor": 0
}